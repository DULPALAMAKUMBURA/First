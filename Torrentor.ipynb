{
  "nbformat": 4,
  "nbformat_minor": 0,
  "metadata": {
    "colab": {
      "provenance": [],
      "authorship_tag": "ABX9TyNCXxI9QmxaU3qI8bi/NZWq",
      "include_colab_link": true
    },
    "kernelspec": {
      "name": "python3",
      "display_name": "Python 3"
    },
    "language_info": {
      "name": "python"
    }
  },
  "cells": [
    {
      "cell_type": "markdown",
      "metadata": {
        "id": "view-in-github",
        "colab_type": "text"
      },
      "source": [
        "<a href=\"https://colab.research.google.com/github/DULPALAMAKUMBURA/Torrent-Download-Cloudshell/blob/main/Torrentor.ipynb\" target=\"_parent\"><img src=\"https://colab.research.google.com/assets/colab-badge.svg\" alt=\"Open In Colab\"/></a>"
      ]
    },
    {
      "cell_type": "markdown",
      "source": [
        "**THIS SCRIPT HELPS YOU TO DOWNLOAD TORRENTS FROM GOOGLE COLAB RUNTIME SERVERS** \n",
        "\n"
      ],
      "metadata": {
        "id": "zX6_ZSstTWaK"
      }
    },
    {
      "cell_type": "markdown",
      "source": [
        "PLS DONT END THE RUNTIME UNTIL ALL THE CODES HAVE FINISHED EXECUTING !"
      ],
      "metadata": {
        "id": "sOzAaJyxW0Xb"
      }
    },
    {
      "cell_type": "code",
      "source": [
        "!python -m pip install --upgrade pip setuptools wheel && python -m pip install lbry-libtorrent wget torf && apt install python3-libtorrent"
      ],
      "metadata": {
        "colab": {
          "base_uri": "https://localhost:8080/"
        },
        "id": "Cbm05RReT6xG",
        "outputId": "f369abd8-5712-4549-a44b-86bf2aaaa582"
      },
      "execution_count": 1,
      "outputs": [
        {
          "output_type": "stream",
          "name": "stdout",
          "text": [
            "Looking in indexes: https://pypi.org/simple, https://us-python.pkg.dev/colab-wheels/public/simple/\n",
            "Requirement already satisfied: pip in /usr/local/lib/python3.8/dist-packages (22.0.4)\n",
            "Collecting pip\n",
            "  Downloading pip-22.3.1-py3-none-any.whl (2.1 MB)\n",
            "\u001b[2K     \u001b[90m━━━━━━━━━━━━━━━━━━━━━━━━━━━━━━━━━━━━━━━━\u001b[0m \u001b[32m2.1/2.1 MB\u001b[0m \u001b[31m25.9 MB/s\u001b[0m eta \u001b[36m0:00:00\u001b[0m\n",
            "\u001b[?25hRequirement already satisfied: setuptools in /usr/local/lib/python3.8/dist-packages (57.4.0)\n",
            "Collecting setuptools\n",
            "  Downloading setuptools-66.1.1-py3-none-any.whl (1.3 MB)\n",
            "\u001b[2K     \u001b[90m━━━━━━━━━━━━━━━━━━━━━━━━━━━━━━━━━━━━━━━━\u001b[0m \u001b[32m1.3/1.3 MB\u001b[0m \u001b[31m34.1 MB/s\u001b[0m eta \u001b[36m0:00:00\u001b[0m\n",
            "\u001b[?25hRequirement already satisfied: wheel in /usr/local/lib/python3.8/dist-packages (0.38.4)\n",
            "Installing collected packages: setuptools, pip\n",
            "  Attempting uninstall: setuptools\n",
            "    Found existing installation: setuptools 57.4.0\n",
            "    Uninstalling setuptools-57.4.0:\n",
            "      Successfully uninstalled setuptools-57.4.0\n",
            "  Attempting uninstall: pip\n",
            "    Found existing installation: pip 22.0.4\n",
            "    Uninstalling pip-22.0.4:\n",
            "      Successfully uninstalled pip-22.0.4\n",
            "\u001b[31mERROR: pip's dependency resolver does not currently take into account all the packages that are installed. This behaviour is the source of the following dependency conflicts.\n",
            "ipython 7.9.0 requires jedi>=0.10, which is not installed.\n",
            "cvxpy 1.2.3 requires setuptools<=64.0.2, but you have setuptools 66.1.1 which is incompatible.\u001b[0m\u001b[31m\n",
            "\u001b[0mSuccessfully installed pip-22.3.1 setuptools-66.1.1\n",
            "Looking in indexes: https://pypi.org/simple, https://us-python.pkg.dev/colab-wheels/public/simple/\n",
            "Collecting lbry-libtorrent\n",
            "  Downloading lbry_libtorrent-1.2.4-py3-none-any.whl (2.4 MB)\n",
            "\u001b[2K     \u001b[90m━━━━━━━━━━━━━━━━━━━━━━━━━━━━━━━━━━━━━━━━\u001b[0m \u001b[32m2.4/2.4 MB\u001b[0m \u001b[31m38.6 MB/s\u001b[0m eta \u001b[36m0:00:00\u001b[0m\n",
            "\u001b[?25hCollecting wget\n",
            "  Downloading wget-3.2.zip (10 kB)\n",
            "  Preparing metadata (setup.py) ... \u001b[?25l\u001b[?25hdone\n",
            "Collecting torf\n",
            "  Downloading torf-4.1.3-py3-none-any.whl (58 kB)\n",
            "\u001b[2K     \u001b[90m━━━━━━━━━━━━━━━━━━━━━━━━━━━━━━━━━━━━━━━━\u001b[0m \u001b[32m58.9/58.9 kB\u001b[0m \u001b[31m4.1 MB/s\u001b[0m eta \u001b[36m0:00:00\u001b[0m\n",
            "\u001b[?25hCollecting flatbencode==0.2.*\n",
            "  Downloading flatbencode-0.2.1.tar.gz (3.2 kB)\n",
            "  Preparing metadata (setup.py) ... \u001b[?25l\u001b[?25hdone\n",
            "Building wheels for collected packages: wget, flatbencode\n",
            "  Building wheel for wget (setup.py) ... \u001b[?25l\u001b[?25hdone\n",
            "  Created wheel for wget: filename=wget-3.2-py3-none-any.whl size=9656 sha256=a832e70ed68b1fb48e901f512fb9a6dbd7021e3cfa703baf959886a3dc0e191f\n",
            "  Stored in directory: /root/.cache/pip/wheels/46/4a/43/6e71c9584e8b20b326931deaf89f11bf4db1bda170ac38e7b4\n",
            "  Building wheel for flatbencode (setup.py) ... \u001b[?25l\u001b[?25hdone\n",
            "  Created wheel for flatbencode: filename=flatbencode-0.2.1-py3-none-any.whl size=3257 sha256=0d92d515da190caa831a2ab91a0b325496b12968b9664aa192932d132c6765a8\n",
            "  Stored in directory: /root/.cache/pip/wheels/42/c8/37/78099ca14ad707d99870be5d7b6fe42ba525dfc64015e641f2\n",
            "Successfully built wget flatbencode\n",
            "Installing collected packages: wget, lbry-libtorrent, flatbencode, torf\n",
            "Successfully installed flatbencode-0.2.1 lbry-libtorrent-1.2.4 torf-4.1.3 wget-3.2\n",
            "\u001b[33mWARNING: Running pip as the 'root' user can result in broken permissions and conflicting behaviour with the system package manager. It is recommended to use a virtual environment instead: https://pip.pypa.io/warnings/venv\u001b[0m\u001b[33m\n",
            "Reading package lists... Done\n",
            "Building dependency tree       \n",
            "Reading state information... Done\n",
            "The following additional packages will be installed:\n",
            "  libtorrent-rasterbar9\n",
            "Suggested packages:\n",
            "  libtorrent-rasterbar-dbg\n",
            "The following NEW packages will be installed:\n",
            "  libtorrent-rasterbar9 python3-libtorrent\n",
            "0 upgraded, 2 newly installed, 0 to remove and 23 not upgraded.\n",
            "Need to get 1,704 kB of archives.\n",
            "After this operation, 6,479 kB of additional disk space will be used.\n",
            "Get:1 http://archive.ubuntu.com/ubuntu focal/universe amd64 libtorrent-rasterbar9 amd64 1.1.13-1.1build2 [1,368 kB]\n",
            "Get:2 http://archive.ubuntu.com/ubuntu focal/universe amd64 python3-libtorrent amd64 1.1.13-1.1build2 [336 kB]\n",
            "Fetched 1,704 kB in 1s (2,163 kB/s)\n",
            "Selecting previously unselected package libtorrent-rasterbar9.\n",
            "(Reading database ... 129504 files and directories currently installed.)\n",
            "Preparing to unpack .../libtorrent-rasterbar9_1.1.13-1.1build2_amd64.deb ...\n",
            "Unpacking libtorrent-rasterbar9 (1.1.13-1.1build2) ...\n",
            "Selecting previously unselected package python3-libtorrent.\n",
            "Preparing to unpack .../python3-libtorrent_1.1.13-1.1build2_amd64.deb ...\n",
            "Unpacking python3-libtorrent (1.1.13-1.1build2) ...\n",
            "Setting up libtorrent-rasterbar9 (1.1.13-1.1build2) ...\n",
            "Setting up python3-libtorrent (1.1.13-1.1build2) ...\n",
            "Processing triggers for libc-bin (2.31-0ubuntu9.9) ...\n"
          ]
        }
      ]
    },
    {
      "cell_type": "code",
      "execution_count": 2,
      "metadata": {
        "colab": {
          "base_uri": "https://localhost:8080/"
        },
        "id": "JnkVI2nRTUuQ",
        "outputId": "18a6ad79-1a12-4507-a8fb-021ca426362a"
      },
      "outputs": [
        {
          "output_type": "stream",
          "name": "stdout",
          "text": [
            "Input Torrent file link or Magnet link and Press Enter: magnet:?xt=urn:btih:A04F39D4CE71EC2F38332DE23E93E37829EE99BB&dn=Chemistry.of.Death.S01E01.WEBRip.x264-PHOENiX&tr=udp%3A%2F%2Fopen.stealth.si%3A80%2Fannounce&tr=udp%3A%2F%2Ftracker.tiny-vps.com%3A6969%2Fannounce&tr=udp%3A%2F%2Ftracker.opentrackr.org%3A1337%2Fannounce&tr=udp%3A%2F%2Ftracker.torrent.eu.org%3A451%2Fannounce&tr=udp%3A%2F%2Fexplodie.org%3A6969%2Fannounce&tr=udp%3A%2F%2Ftracker.cyberia.is%3A6969%2Fannounce&tr=udp%3A%2F%2Fipv4.tracker.harry.lu%3A80%2Fannounce&tr=udp%3A%2F%2Fp4p.arenabg.com%3A1337%2Fannounce&tr=udp%3A%2F%2Ftracker.birkenwald.de%3A6969%2Fannounce&tr=udp%3A%2F%2Ftracker.moeking.me%3A6969%2Fannounce&tr=udp%3A%2F%2Fopentor.org%3A2710%2Fannounce&tr=udp%3A%2F%2Ftracker.dler.org%3A6969%2Fannounce&tr=udp%3A%2F%2F9.rarbg.me%3A2970%2Fannounce&tr=https%3A%2F%2Ftracker.foreverpirates.co%3A443%2Fannounce&tr=udp%3A%2F%2Ftracker.opentrackr.org%3A1337%2Fannounce&tr=http%3A%2F%2Ftracker.openbittorrent.com%3A80%2Fannounce&tr=udp%3A%2F%2Fopentracker.i2p.rocks%3A6969%2Fannounce&tr=udp%3A%2F%2Ftracker.internetwarriors.net%3A1337%2Fannounce&tr=udp%3A%2F%2Ftracker.leechers-paradise.org%3A6969%2Fannounce&tr=udp%3A%2F%2Fcoppersurfer.tk%3A6969%2Fannounce&tr=udp%3A%2F%2Ftracker.zer0day.to%3A1337%2Fannounce\n",
            "magnet:?xt=urn:btih:A04F39D4CE71EC2F38332DE23E93E37829EE99BB&dn=Chemistry.of.Death.S01E01.WEBRip.x264-PHOENiX&tr=udp%3A%2F%2Fopen.stealth.si%3A80%2Fannounce&tr=udp%3A%2F%2Ftracker.tiny-vps.com%3A6969%2Fannounce&tr=udp%3A%2F%2Ftracker.opentrackr.org%3A1337%2Fannounce&tr=udp%3A%2F%2Ftracker.torrent.eu.org%3A451%2Fannounce&tr=udp%3A%2F%2Fexplodie.org%3A6969%2Fannounce&tr=udp%3A%2F%2Ftracker.cyberia.is%3A6969%2Fannounce&tr=udp%3A%2F%2Fipv4.tracker.harry.lu%3A80%2Fannounce&tr=udp%3A%2F%2Fp4p.arenabg.com%3A1337%2Fannounce&tr=udp%3A%2F%2Ftracker.birkenwald.de%3A6969%2Fannounce&tr=udp%3A%2F%2Ftracker.moeking.me%3A6969%2Fannounce&tr=udp%3A%2F%2Fopentor.org%3A2710%2Fannounce&tr=udp%3A%2F%2Ftracker.dler.org%3A6969%2Fannounce&tr=udp%3A%2F%2F9.rarbg.me%3A2970%2Fannounce&tr=https%3A%2F%2Ftracker.foreverpirates.co%3A443%2Fannounce&tr=udp%3A%2F%2Ftracker.opentrackr.org%3A1337%2Fannounce&tr=http%3A%2F%2Ftracker.openbittorrent.com%3A80%2Fannounce&tr=udp%3A%2F%2Fopentracker.i2p.rocks%3A6969%2Fannounce&tr=udp%3A%2F%2Ftracker.internetwarriors.net%3A1337%2Fannounce&tr=udp%3A%2F%2Ftracker.leechers-paradise.org%3A6969%2Fannounce&tr=udp%3A%2F%2Fcoppersurfer.tk%3A6969%2Fannounce&tr=udp%3A%2F%2Ftracker.zer0day.to%3A1337%2Fannounce\n",
            "2023-01-21 17:13:48.471134\n",
            "Downloading Metadata...\n",
            "Got Metadata, Starting Torrent Download...\n",
            "Starting Chemistry.of.Death.S01E01.WEBRip.x264-TORRENTGALAXY[TGx]\n",
            "0.10% complete (down: 8.6 kb/s up: 1.7 kB/s peers: 9) downloading \n",
            "2.53% complete (down: 1089.1 kb/s up: 41.3 kB/s peers: 16) downloading \n",
            "6.87% complete (down: 2309.4 kb/s up: 90.4 kB/s peers: 32) downloading \n",
            "12.33% complete (down: 3235.3 kb/s up: 120.7 kB/s peers: 36) downloading \n",
            "17.97% complete (down: 3579.2 kb/s up: 132.5 kB/s peers: 43) downloading \n",
            "23.95% complete (down: 3871.9 kb/s up: 146.9 kB/s peers: 49) downloading \n",
            "30.52% complete (down: 4304.4 kb/s up: 163.5 kB/s peers: 52) downloading \n",
            "35.94% complete (down: 3969.7 kb/s up: 155.1 kB/s peers: 50) downloading \n",
            "41.50% complete (down: 3817.2 kb/s up: 146.5 kB/s peers: 53) downloading \n",
            "47.36% complete (down: 3844.1 kb/s up: 149.1 kB/s peers: 55) downloading \n",
            "53.30% complete (down: 4006.1 kb/s up: 156.4 kB/s peers: 59) downloading \n",
            "58.98% complete (down: 3962.9 kb/s up: 154.2 kB/s peers: 56) downloading \n",
            "64.31% complete (down: 3721.0 kb/s up: 141.6 kB/s peers: 66) downloading \n",
            "69.36% complete (down: 3627.3 kb/s up: 148.1 kB/s peers: 77) downloading \n",
            "75.33% complete (down: 3902.2 kb/s up: 167.4 kB/s peers: 88) downloading \n",
            "81.71% complete (down: 4352.8 kb/s up: 186.2 kB/s peers: 82) downloading \n",
            "86.95% complete (down: 3779.5 kb/s up: 160.0 kB/s peers: 93) downloading \n",
            "91.73% complete (down: 3492.9 kb/s up: 153.3 kB/s peers: 96) downloading \n",
            "96.45% complete (down: 3307.7 kb/s up: 150.4 kB/s peers: 102) downloading \n",
            "99.80% complete (down: 2966.2 kb/s up: 153.6 kB/s peers: 101) downloading \n",
            "Chemistry.of.Death.S01E01.WEBRip.x264-TORRENTGALAXY[TGx] COMPLETE\n",
            "Elapsed Time:  1 min : 43 sec\n",
            "2023-01-21 17:15:31.586381\n",
            "Starting to zip downloaded torrent file pls wait...\n",
            "torrent.zip created successfully\n",
            "Now you can download torrent.zip from shell editor explorer\n"
          ]
        }
      ],
      "source": [
        "import zipfile\n",
        "import os\n",
        "import libtorrent as lt\n",
        "import time\n",
        "import datetime\n",
        "import shutil\n",
        "\n",
        "params = {\n",
        "    'save_path': '/home/Torrent/',\n",
        "    'storage_mode': lt.storage_mode_t(2),\n",
        "}\n",
        "\n",
        "ses = lt.session()\n",
        "ses.listen_on(6881, 6891)\n",
        "link = input(\"Input Torrent file link or Magnet link and Press Enter: \")\n",
        "\n",
        "if link.endswith('.torrent'):\n",
        "    import wget\n",
        "    from torf import Torrent\n",
        "\n",
        "    if os.path.exists('torrent.torrent'):\n",
        "        os.remove('torrent.torrent')\n",
        "\n",
        "    wget.download(link, 'torrent.torrent')\n",
        "    t = Torrent.read('torrent.torrent')\n",
        "    link = str(t.magnet(name=True, size=False, trackers=False, tracker=False))\n",
        "\n",
        "\n",
        "print(link)\n",
        "handle = lt.add_magnet_uri(ses, link, params)\n",
        "# change the 0 to a 1 to download sequentially\n",
        "handle.set_sequential_download(0)\n",
        "ses.start_dht()\n",
        "begin = time.time()\n",
        "\n",
        "print(datetime.datetime.now())\n",
        "print('Downloading Metadata...')\n",
        "\n",
        "while not handle.has_metadata():\n",
        "    time.sleep(1)\n",
        "\n",
        "print('Got Metadata, Starting Torrent Download...')\n",
        "print(\"Starting\", handle.name())\n",
        "\n",
        "while handle.status().state != lt.torrent_status.seeding:\n",
        "    s = handle.status()\n",
        "    state_str = ['queued', 'checking', 'downloading metadata',\n",
        "                 'downloading', 'finished', 'seeding', 'allocating']\n",
        "    print('%.2f%% complete (down: %.1f kb/s up: %.1f kB/s peers: %d) %s ' %\n",
        "          (s.progress * 100, s.download_rate / 1000, s.upload_rate / 1000,\n",
        "           s.num_peers, state_str[s.state]))\n",
        "    time.sleep(5)\n",
        "\n",
        "end = time.time()\n",
        "print(handle.name(), \"COMPLETE\")\n",
        "print(\"Elapsed Time: \", int((end - begin) // 60), \"min :\", int((end - begin) % 60), \"sec\")\n",
        "print(datetime.datetime.now())\n",
        "\n",
        "#zipping\n",
        "\n",
        "print(\"Starting to zip downloaded torrent file pls wait...\")\n",
        "folder_to_zip = '/home/Torrent'\n",
        "zip_file_name = 'torrent'\n",
        "\n",
        "shutil.make_archive(zip_file_name, 'zip', folder_to_zip)\n",
        "\n",
        "# Delete the folder and its contents\n",
        "shutil.rmtree(folder_to_zip)\n",
        "print(f\"{zip_file_name}.zip created successfully\")\n",
        "print(\"Now you can download torrent.zip from shell editor explorer\")"
      ]
    },
    {
      "cell_type": "code",
      "source": [
        "from google.colab import files\n",
        "files.download('torrent.zip') "
      ],
      "metadata": {
        "id": "aeJAZBXqVgIM"
      },
      "execution_count": null,
      "outputs": []
    },
    {
      "cell_type": "code",
      "source": [
        "import os\n",
        "\n",
        "# Define file path\n",
        "file_path = \"/content/sample_data/torrent.zip\"\n",
        "\n",
        "# Check if file exists\n",
        "if os.path.exists(file_path):\n",
        "    os.remove(file_path)"
      ],
      "metadata": {
        "id": "snCOUSDoWWks"
      },
      "execution_count": 14,
      "outputs": []
    },
    {
      "cell_type": "markdown",
      "source": [
        "WE R DONE !"
      ],
      "metadata": {
        "id": "W7xo8b3_WktJ"
      }
    }
  ]
}